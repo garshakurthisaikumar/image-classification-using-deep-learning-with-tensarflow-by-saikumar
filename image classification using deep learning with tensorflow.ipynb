{
 "cells": [
  {
   "cell_type": "markdown",
   "id": "9f8524b9",
   "metadata": {},
   "source": [
    "##  <span style=\"color:indigo\">Handwritten Number classification using CNN</span>."
   ]
  },
  {
   "cell_type": "markdown",
   "id": "78688564",
   "metadata": {},
   "source": [
    "### Group Name : W414\n",
    "<ul>\n",
    "    <li>saikumar garshakurthi</li>\n",
    "    <li>Bhanu Chander Mudeli</li>\n",
    "    <li>Harish Reddy Kadukuntla</li>\n",
    "    <li>yeshwanth reddy peddola</li>\n",
    "</ul>"
   ]
  },
  {
   "cell_type": "markdown",
   "id": "84ddc5cd",
   "metadata": {},
   "source": [
    "In this notebook, we will first use a simple neural network (ANN) to categorise handwritten digits, and then we will repeat the process using a convolutional neural network. We will examine how using a convolutional neural network clicks to increase accuracy."
   ]
  },
  {
   "cell_type": "markdown",
   "id": "6980345f",
   "metadata": {},
   "source": [
    "#### Installing the tensorflow library.\n",
    "Google created the open-source TensorFlow library, mostly for use in deep learning applications. It is also compatible with conventional machine learning. Originally designed for large-scale numerical computations, TensorFlow does not take deep learning into consideration. Nevertheless, Google made it publicly available after discovering that it was also highly helpful for deep learning research. Given its versatility and scalability, this family of models also has a great deal of potential to support data analysis and modelling for a variety of issues in the behavioural and educational sciences. We provide the reader with an introduction to neural network models, including the multilayer perceptron, convolutional neural network, and stochastic gradient descent, which is the most often used technique for neural network model optimisation.\n",
    "\n",
    "Tensors, which are multi-dimensional arrays of more dimensions, are the format in which TensorFlow takes data. Multidimensional arrays come in highly useful when managing big data sets. Keras is a small, easily learned advanced Python deep learning package that works with TensorFlow (also known as Theano or CNTK). This frees developers from having to worry about the minute intricacies of tensors, such their structure and mathematical details, so they can concentrate on fundamental deep learning ideas like building layers for neural networks. Theano, CNTK, or TensorFlow has to be a Keras backend. For deep learning applications, Keras can be used without requiring interaction with the rather complicated TensorFlow (also known as Theano or CNTK). Frameworks come in two primary varieties: Sequential API and Functional API. Based on sequential API\n",
    "\n",
    "#### References\n",
    "Rui Wang, Wei Li, Runnan Qin and JinZhong Wu “Blur Image Classification based on Deep Learning”, IEEE, ISBN 978-1-5386-1621-5 pp. 1-6, 2017.\n",
    "\n",
    "C.K. Chow and C.N. Liu, \"Approximating Discrete Probability Distributions with Dependence Trees,\" IEEE Transactions on Information Theory, vol.14, no. 3, May 1965, pp. 462–467."
   ]
  },
  {
   "cell_type": "code",
   "execution_count": 5,
   "id": "2fe76c1d",
   "metadata": {},
   "outputs": [
    {
     "name": "stdout",
     "output_type": "stream",
     "text": [
      "Collecting tensorflow\n",
      "  Obtaining dependency information for tensorflow from https://files.pythonhosted.org/packages/80/6f/57d36f6507e432d7fc1956b2e9e8530c5c2d2bfcd8821bcbfae271cd6688/tensorflow-2.14.0-cp311-cp311-win_amd64.whl.metadata\n",
      "  Downloading tensorflow-2.14.0-cp311-cp311-win_amd64.whl.metadata (3.3 kB)\n",
      "Collecting tensorflow-intel==2.14.0 (from tensorflow)\n",
      "  Obtaining dependency information for tensorflow-intel==2.14.0 from https://files.pythonhosted.org/packages/ad/6e/1bfe367855dd87467564f7bf9fa14f3b17889988e79598bc37bf18f5ffb6/tensorflow_intel-2.14.0-cp311-cp311-win_amd64.whl.metadata\n",
      "  Downloading tensorflow_intel-2.14.0-cp311-cp311-win_amd64.whl.metadata (4.8 kB)\n",
      "Collecting absl-py>=1.0.0 (from tensorflow-intel==2.14.0->tensorflow)\n",
      "  Obtaining dependency information for absl-py>=1.0.0 from https://files.pythonhosted.org/packages/01/e4/dc0a1dcc4e74e08d7abedab278c795eef54a224363bb18f5692f416d834f/absl_py-2.0.0-py3-none-any.whl.metadata\n",
      "  Downloading absl_py-2.0.0-py3-none-any.whl.metadata (2.3 kB)\n",
      "Collecting astunparse>=1.6.0 (from tensorflow-intel==2.14.0->tensorflow)\n",
      "  Downloading astunparse-1.6.3-py2.py3-none-any.whl (12 kB)\n",
      "Collecting flatbuffers>=23.5.26 (from tensorflow-intel==2.14.0->tensorflow)\n",
      "  Obtaining dependency information for flatbuffers>=23.5.26 from https://files.pythonhosted.org/packages/6f/12/d5c79ee252793ffe845d58a913197bfa02ae9a0b5c9bc3dc4b58d477b9e7/flatbuffers-23.5.26-py2.py3-none-any.whl.metadata\n",
      "  Downloading flatbuffers-23.5.26-py2.py3-none-any.whl.metadata (850 bytes)\n",
      "Collecting gast!=0.5.0,!=0.5.1,!=0.5.2,>=0.2.1 (from tensorflow-intel==2.14.0->tensorflow)\n",
      "  Downloading gast-0.5.4-py3-none-any.whl (19 kB)\n",
      "Collecting google-pasta>=0.1.1 (from tensorflow-intel==2.14.0->tensorflow)\n",
      "  Downloading google_pasta-0.2.0-py3-none-any.whl (57 kB)\n",
      "     ---------------------------------------- 0.0/57.5 kB ? eta -:--:--\n",
      "     ---------------------------------------- 57.5/57.5 kB 1.5 MB/s eta 0:00:00\n",
      "Requirement already satisfied: h5py>=2.9.0 in c:\\users\\peddo\\anaconda3\\lib\\site-packages (from tensorflow-intel==2.14.0->tensorflow) (3.7.0)\n",
      "Collecting libclang>=13.0.0 (from tensorflow-intel==2.14.0->tensorflow)\n",
      "  Obtaining dependency information for libclang>=13.0.0 from https://files.pythonhosted.org/packages/02/8c/dc970bc00867fe290e8c8a7befa1635af716a9ebdfe3fb9dce0ca4b522ce/libclang-16.0.6-py2.py3-none-win_amd64.whl.metadata\n",
      "  Downloading libclang-16.0.6-py2.py3-none-win_amd64.whl.metadata (5.3 kB)\n",
      "Collecting ml-dtypes==0.2.0 (from tensorflow-intel==2.14.0->tensorflow)\n",
      "  Obtaining dependency information for ml-dtypes==0.2.0 from https://files.pythonhosted.org/packages/08/89/c727fde1a3d12586e0b8c01abf53754707d76beaa9987640e70807d4545f/ml_dtypes-0.2.0-cp311-cp311-win_amd64.whl.metadata\n",
      "  Downloading ml_dtypes-0.2.0-cp311-cp311-win_amd64.whl.metadata (20 kB)\n",
      "Requirement already satisfied: numpy>=1.23.5 in c:\\users\\peddo\\anaconda3\\lib\\site-packages (from tensorflow-intel==2.14.0->tensorflow) (1.24.3)\n",
      "Collecting opt-einsum>=2.3.2 (from tensorflow-intel==2.14.0->tensorflow)\n",
      "  Downloading opt_einsum-3.3.0-py3-none-any.whl (65 kB)\n",
      "     ---------------------------------------- 0.0/65.5 kB ? eta -:--:--\n",
      "     ---------------------------------------- 65.5/65.5 kB 3.7 MB/s eta 0:00:00\n",
      "Requirement already satisfied: packaging in c:\\users\\peddo\\anaconda3\\lib\\site-packages (from tensorflow-intel==2.14.0->tensorflow) (23.0)\n",
      "Collecting protobuf!=4.21.0,!=4.21.1,!=4.21.2,!=4.21.3,!=4.21.4,!=4.21.5,<5.0.0dev,>=3.20.3 (from tensorflow-intel==2.14.0->tensorflow)\n",
      "  Obtaining dependency information for protobuf!=4.21.0,!=4.21.1,!=4.21.2,!=4.21.3,!=4.21.4,!=4.21.5,<5.0.0dev,>=3.20.3 from https://files.pythonhosted.org/packages/72/eb/a07cc36ed9b119062886935a8371da8a977dda30b19cf57fe9162589b6f7/protobuf-4.25.0-cp310-abi3-win_amd64.whl.metadata\n",
      "  Downloading protobuf-4.25.0-cp310-abi3-win_amd64.whl.metadata (541 bytes)\n",
      "Requirement already satisfied: setuptools in c:\\users\\peddo\\anaconda3\\lib\\site-packages (from tensorflow-intel==2.14.0->tensorflow) (68.0.0)\n",
      "Requirement already satisfied: six>=1.12.0 in c:\\users\\peddo\\anaconda3\\lib\\site-packages (from tensorflow-intel==2.14.0->tensorflow) (1.16.0)\n",
      "Collecting termcolor>=1.1.0 (from tensorflow-intel==2.14.0->tensorflow)\n",
      "  Downloading termcolor-2.3.0-py3-none-any.whl (6.9 kB)\n",
      "Requirement already satisfied: typing-extensions>=3.6.6 in c:\\users\\peddo\\anaconda3\\lib\\site-packages (from tensorflow-intel==2.14.0->tensorflow) (4.7.1)\n",
      "Requirement already satisfied: wrapt<1.15,>=1.11.0 in c:\\users\\peddo\\anaconda3\\lib\\site-packages (from tensorflow-intel==2.14.0->tensorflow) (1.14.1)\n",
      "Collecting tensorflow-io-gcs-filesystem>=0.23.1 (from tensorflow-intel==2.14.0->tensorflow)\n",
      "  Downloading tensorflow_io_gcs_filesystem-0.31.0-cp311-cp311-win_amd64.whl (1.5 MB)\n",
      "     ---------------------------------------- 0.0/1.5 MB ? eta -:--:--\n",
      "     --- ------------------------------------ 0.1/1.5 MB 3.6 MB/s eta 0:00:01\n",
      "     ------------ --------------------------- 0.5/1.5 MB 5.9 MB/s eta 0:00:01\n",
      "     --------------------------- ------------ 1.0/1.5 MB 7.9 MB/s eta 0:00:01\n",
      "     ---------------------------------------- 1.5/1.5 MB 8.6 MB/s eta 0:00:00\n",
      "Collecting grpcio<2.0,>=1.24.3 (from tensorflow-intel==2.14.0->tensorflow)\n",
      "  Obtaining dependency information for grpcio<2.0,>=1.24.3 from https://files.pythonhosted.org/packages/13/ee/b698a4d0eeae2d58d9906f20959b58a00622180ff8bf4ba71f71aad3c7f8/grpcio-1.59.2-cp311-cp311-win_amd64.whl.metadata\n",
      "  Downloading grpcio-1.59.2-cp311-cp311-win_amd64.whl.metadata (4.2 kB)\n",
      "Collecting tensorboard<2.15,>=2.14 (from tensorflow-intel==2.14.0->tensorflow)\n",
      "  Obtaining dependency information for tensorboard<2.15,>=2.14 from https://files.pythonhosted.org/packages/73/a2/66ed644f6ed1562e0285fcd959af17670ea313c8f331c46f79ee77187eb9/tensorboard-2.14.1-py3-none-any.whl.metadata\n",
      "  Downloading tensorboard-2.14.1-py3-none-any.whl.metadata (1.7 kB)\n",
      "Collecting tensorflow-estimator<2.15,>=2.14.0 (from tensorflow-intel==2.14.0->tensorflow)\n",
      "  Obtaining dependency information for tensorflow-estimator<2.15,>=2.14.0 from https://files.pythonhosted.org/packages/d1/da/4f264c196325bb6e37a6285caec5b12a03def489b57cc1fdac02bb6272cd/tensorflow_estimator-2.14.0-py2.py3-none-any.whl.metadata\n",
      "  Downloading tensorflow_estimator-2.14.0-py2.py3-none-any.whl.metadata (1.3 kB)\n",
      "Collecting keras<2.15,>=2.14.0 (from tensorflow-intel==2.14.0->tensorflow)\n",
      "  Obtaining dependency information for keras<2.15,>=2.14.0 from https://files.pythonhosted.org/packages/fe/58/34d4d8f1aa11120c2d36d7ad27d0526164b1a8ae45990a2fede31d0e59bf/keras-2.14.0-py3-none-any.whl.metadata\n",
      "  Downloading keras-2.14.0-py3-none-any.whl.metadata (2.4 kB)\n",
      "Requirement already satisfied: wheel<1.0,>=0.23.0 in c:\\users\\peddo\\anaconda3\\lib\\site-packages (from astunparse>=1.6.0->tensorflow-intel==2.14.0->tensorflow) (0.38.4)\n",
      "Collecting google-auth<3,>=1.6.3 (from tensorboard<2.15,>=2.14->tensorflow-intel==2.14.0->tensorflow)\n",
      "  Obtaining dependency information for google-auth<3,>=1.6.3 from https://files.pythonhosted.org/packages/86/a7/75911c13a242735d5aeaca6a272da380335ff4ba5f26d6b2ae20ff682d13/google_auth-2.23.4-py2.py3-none-any.whl.metadata\n",
      "  Downloading google_auth-2.23.4-py2.py3-none-any.whl.metadata (4.7 kB)\n",
      "Collecting google-auth-oauthlib<1.1,>=0.5 (from tensorboard<2.15,>=2.14->tensorflow-intel==2.14.0->tensorflow)\n",
      "  Downloading google_auth_oauthlib-1.0.0-py2.py3-none-any.whl (18 kB)\n",
      "Requirement already satisfied: markdown>=2.6.8 in c:\\users\\peddo\\anaconda3\\lib\\site-packages (from tensorboard<2.15,>=2.14->tensorflow-intel==2.14.0->tensorflow) (3.4.1)\n",
      "Requirement already satisfied: requests<3,>=2.21.0 in c:\\users\\peddo\\anaconda3\\lib\\site-packages (from tensorboard<2.15,>=2.14->tensorflow-intel==2.14.0->tensorflow) (2.31.0)\n",
      "Collecting tensorboard-data-server<0.8.0,>=0.7.0 (from tensorboard<2.15,>=2.14->tensorflow-intel==2.14.0->tensorflow)\n",
      "  Obtaining dependency information for tensorboard-data-server<0.8.0,>=0.7.0 from https://files.pythonhosted.org/packages/7a/13/e503968fefabd4c6b2650af21e110aa8466fe21432cd7c43a84577a89438/tensorboard_data_server-0.7.2-py3-none-any.whl.metadata\n",
      "  Downloading tensorboard_data_server-0.7.2-py3-none-any.whl.metadata (1.1 kB)\n",
      "Requirement already satisfied: werkzeug>=1.0.1 in c:\\users\\peddo\\anaconda3\\lib\\site-packages (from tensorboard<2.15,>=2.14->tensorflow-intel==2.14.0->tensorflow) (2.2.3)\n",
      "Collecting cachetools<6.0,>=2.0.0 (from google-auth<3,>=1.6.3->tensorboard<2.15,>=2.14->tensorflow-intel==2.14.0->tensorflow)\n",
      "  Obtaining dependency information for cachetools<6.0,>=2.0.0 from https://files.pythonhosted.org/packages/a2/91/2d843adb9fbd911e0da45fbf6f18ca89d07a087c3daa23e955584f90ebf4/cachetools-5.3.2-py3-none-any.whl.metadata\n",
      "  Downloading cachetools-5.3.2-py3-none-any.whl.metadata (5.2 kB)\n",
      "Requirement already satisfied: pyasn1-modules>=0.2.1 in c:\\users\\peddo\\anaconda3\\lib\\site-packages (from google-auth<3,>=1.6.3->tensorboard<2.15,>=2.14->tensorflow-intel==2.14.0->tensorflow) (0.2.8)\n",
      "Collecting rsa<5,>=3.1.4 (from google-auth<3,>=1.6.3->tensorboard<2.15,>=2.14->tensorflow-intel==2.14.0->tensorflow)\n",
      "  Downloading rsa-4.9-py3-none-any.whl (34 kB)\n",
      "Collecting requests-oauthlib>=0.7.0 (from google-auth-oauthlib<1.1,>=0.5->tensorboard<2.15,>=2.14->tensorflow-intel==2.14.0->tensorflow)\n",
      "  Downloading requests_oauthlib-1.3.1-py2.py3-none-any.whl (23 kB)\n",
      "Requirement already satisfied: charset-normalizer<4,>=2 in c:\\users\\peddo\\anaconda3\\lib\\site-packages (from requests<3,>=2.21.0->tensorboard<2.15,>=2.14->tensorflow-intel==2.14.0->tensorflow) (2.0.4)\n",
      "Requirement already satisfied: idna<4,>=2.5 in c:\\users\\peddo\\anaconda3\\lib\\site-packages (from requests<3,>=2.21.0->tensorboard<2.15,>=2.14->tensorflow-intel==2.14.0->tensorflow) (3.4)\n",
      "Requirement already satisfied: urllib3<3,>=1.21.1 in c:\\users\\peddo\\anaconda3\\lib\\site-packages (from requests<3,>=2.21.0->tensorboard<2.15,>=2.14->tensorflow-intel==2.14.0->tensorflow) (1.26.16)\n",
      "Requirement already satisfied: certifi>=2017.4.17 in c:\\users\\peddo\\anaconda3\\lib\\site-packages (from requests<3,>=2.21.0->tensorboard<2.15,>=2.14->tensorflow-intel==2.14.0->tensorflow) (2023.7.22)\n",
      "Requirement already satisfied: MarkupSafe>=2.1.1 in c:\\users\\peddo\\anaconda3\\lib\\site-packages (from werkzeug>=1.0.1->tensorboard<2.15,>=2.14->tensorflow-intel==2.14.0->tensorflow) (2.1.1)\n",
      "Requirement already satisfied: pyasn1<0.5.0,>=0.4.6 in c:\\users\\peddo\\anaconda3\\lib\\site-packages (from pyasn1-modules>=0.2.1->google-auth<3,>=1.6.3->tensorboard<2.15,>=2.14->tensorflow-intel==2.14.0->tensorflow) (0.4.8)\n",
      "Collecting oauthlib>=3.0.0 (from requests-oauthlib>=0.7.0->google-auth-oauthlib<1.1,>=0.5->tensorboard<2.15,>=2.14->tensorflow-intel==2.14.0->tensorflow)\n",
      "  Downloading oauthlib-3.2.2-py3-none-any.whl (151 kB)\n",
      "     ---------------------------------------- 0.0/151.7 kB ? eta -:--:--\n",
      "     -------------------------------------- 151.7/151.7 kB 8.8 MB/s eta 0:00:00\n",
      "Downloading tensorflow-2.14.0-cp311-cp311-win_amd64.whl (2.1 kB)\n",
      "Downloading tensorflow_intel-2.14.0-cp311-cp311-win_amd64.whl (284.2 MB)\n",
      "   ---------------------------------------- 0.0/284.2 MB ? eta -:--:--\n",
      "   ---------------------------------------- 0.6/284.2 MB 19.8 MB/s eta 0:00:15\n",
      "   ---------------------------------------- 1.3/284.2 MB 16.7 MB/s eta 0:00:17\n",
      "   ---------------------------------------- 2.0/284.2 MB 16.1 MB/s eta 0:00:18\n",
      "   ---------------------------------------- 2.7/284.2 MB 15.5 MB/s eta 0:00:19\n",
      "   ---------------------------------------- 3.3/284.2 MB 15.2 MB/s eta 0:00:19\n",
      "    --------------------------------------- 4.0/284.2 MB 15.2 MB/s eta 0:00:19\n",
      "    --------------------------------------- 4.7/284.2 MB 15.0 MB/s eta 0:00:19\n",
      "    --------------------------------------- 5.2/284.2 MB 14.5 MB/s eta 0:00:20\n",
      "    --------------------------------------- 6.0/284.2 MB 14.8 MB/s eta 0:00:19\n",
      "    --------------------------------------- 6.7/284.2 MB 14.8 MB/s eta 0:00:19\n",
      "   - -------------------------------------- 7.4/284.2 MB 14.7 MB/s eta 0:00:19\n",
      "   - -------------------------------------- 8.0/284.2 MB 14.7 MB/s eta 0:00:19\n",
      "   - -------------------------------------- 8.7/284.2 MB 14.7 MB/s eta 0:00:19\n",
      "   - -------------------------------------- 9.4/284.2 MB 14.6 MB/s eta 0:00:19\n",
      "   - -------------------------------------- 10.0/284.2 MB 14.6 MB/s eta 0:00:19\n",
      "   - -------------------------------------- 10.7/284.2 MB 13.9 MB/s eta 0:00:20\n",
      "   - -------------------------------------- 11.4/284.2 MB 14.2 MB/s eta 0:00:20\n",
      "   - -------------------------------------- 12.1/284.2 MB 14.2 MB/s eta 0:00:20\n",
      "   - -------------------------------------- 12.7/284.2 MB 13.9 MB/s eta 0:00:20\n",
      "   - -------------------------------------- 13.4/284.2 MB 13.9 MB/s eta 0:00:20\n",
      "   - -------------------------------------- 14.1/284.2 MB 13.9 MB/s eta 0:00:20\n",
      "   -- ------------------------------------- 14.8/284.2 MB 14.2 MB/s eta 0:00:19\n",
      "   -- ------------------------------------- 15.5/284.2 MB 14.2 MB/s eta 0:00:19\n",
      "   -- ------------------------------------- 16.1/284.2 MB 13.9 MB/s eta 0:00:20\n",
      "   -- ------------------------------------- 16.8/284.2 MB 14.2 MB/s eta 0:00:19\n",
      "   -- ------------------------------------- 17.5/284.2 MB 14.2 MB/s eta 0:00:19\n",
      "   -- ------------------------------------- 18.2/284.2 MB 14.2 MB/s eta 0:00:19\n",
      "   -- ------------------------------------- 18.8/284.2 MB 14.2 MB/s eta 0:00:19\n",
      "   -- ------------------------------------- 19.5/284.2 MB 14.2 MB/s eta 0:00:19\n",
      "   -- ------------------------------------- 20.2/284.2 MB 14.2 MB/s eta 0:00:19\n",
      "   -- ------------------------------------- 20.9/284.2 MB 14.2 MB/s eta 0:00:19\n",
      "   --- ------------------------------------ 21.6/284.2 MB 13.9 MB/s eta 0:00:19\n",
      "   --- ------------------------------------ 22.2/284.2 MB 14.2 MB/s eta 0:00:19\n",
      "   --- ------------------------------------ 22.9/284.2 MB 14.2 MB/s eta 0:00:19\n",
      "   --- ------------------------------------ 23.6/284.2 MB 14.2 MB/s eta 0:00:19\n",
      "   --- ------------------------------------ 24.3/284.2 MB 13.9 MB/s eta 0:00:19\n",
      "   --- ------------------------------------ 24.9/284.2 MB 14.2 MB/s eta 0:00:19\n",
      "   --- ------------------------------------ 25.6/284.2 MB 14.2 MB/s eta 0:00:19\n",
      "   --- ------------------------------------ 26.2/284.2 MB 13.9 MB/s eta 0:00:19\n",
      "   --- ------------------------------------ 26.9/284.2 MB 14.2 MB/s eta 0:00:19\n",
      "   --- ------------------------------------ 27.6/284.2 MB 13.9 MB/s eta 0:00:19\n",
      "   --- ------------------------------------ 28.3/284.2 MB 13.9 MB/s eta 0:00:19\n",
      "   ---- ----------------------------------- 29.0/284.2 MB 14.2 MB/s eta 0:00:18\n",
      "   ---- ----------------------------------- 29.6/284.2 MB 14.2 MB/s eta 0:00:18\n",
      "   ---- ----------------------------------- 30.3/284.2 MB 14.2 MB/s eta 0:00:18\n",
      "   ---- ----------------------------------- 31.0/284.2 MB 14.2 MB/s eta 0:00:18\n",
      "   ---- ----------------------------------- 31.7/284.2 MB 14.2 MB/s eta 0:00:18\n",
      "   ---- ----------------------------------- 32.3/284.2 MB 14.2 MB/s eta 0:00:18\n",
      "   ---- ----------------------------------- 33.0/284.2 MB 14.2 MB/s eta 0:00:18\n",
      "   ---- ----------------------------------- 33.7/284.2 MB 14.2 MB/s eta 0:00:18\n",
      "   ---- ----------------------------------- 34.3/284.2 MB 14.2 MB/s eta 0:00:18\n",
      "   ---- ----------------------------------- 35.0/284.2 MB 14.2 MB/s eta 0:00:18\n",
      "   ----- ---------------------------------- 35.7/284.2 MB 14.2 MB/s eta 0:00:18\n",
      "   ----- ---------------------------------- 36.4/284.2 MB 14.2 MB/s eta 0:00:18\n",
      "   ----- ---------------------------------- 37.0/284.2 MB 13.9 MB/s eta 0:00:18\n",
      "   ----- ---------------------------------- 37.7/284.2 MB 14.2 MB/s eta 0:00:18\n",
      "   ----- ---------------------------------- 38.4/284.2 MB 14.2 MB/s eta 0:00:18\n",
      "   ----- ---------------------------------- 39.0/284.2 MB 14.2 MB/s eta 0:00:18\n",
      "   ----- ---------------------------------- 39.7/284.2 MB 14.2 MB/s eta 0:00:18\n",
      "   ----- ---------------------------------- 40.4/284.2 MB 13.9 MB/s eta 0:00:18\n",
      "   ----- ---------------------------------- 41.0/284.2 MB 14.2 MB/s eta 0:00:18\n",
      "   ----- ---------------------------------- 41.7/284.2 MB 13.9 MB/s eta 0:00:18\n",
      "   ----- ---------------------------------- 42.4/284.2 MB 13.9 MB/s eta 0:00:18\n",
      "   ------ --------------------------------- 43.1/284.2 MB 14.2 MB/s eta 0:00:17\n",
      "   ------ --------------------------------- 43.7/284.2 MB 14.2 MB/s eta 0:00:17\n",
      "   ------ --------------------------------- 44.4/284.2 MB 13.9 MB/s eta 0:00:18\n",
      "   ------ --------------------------------- 45.1/284.2 MB 14.5 MB/s eta 0:00:17\n",
      "   ------ --------------------------------- 45.8/284.2 MB 14.2 MB/s eta 0:00:17\n",
      "   ------ --------------------------------- 46.4/284.2 MB 14.2 MB/s eta 0:00:17\n",
      "   ------ --------------------------------- 47.1/284.2 MB 14.2 MB/s eta 0:00:17\n",
      "   ------ --------------------------------- 47.8/284.2 MB 14.2 MB/s eta 0:00:17\n",
      "   ------ --------------------------------- 48.4/284.2 MB 14.2 MB/s eta 0:00:17\n",
      "   ------ --------------------------------- 49.1/284.2 MB 14.2 MB/s eta 0:00:17\n",
      "   ------- -------------------------------- 49.8/284.2 MB 14.2 MB/s eta 0:00:17\n",
      "   ------- -------------------------------- 50.4/284.2 MB 14.2 MB/s eta 0:00:17\n",
      "   ------- -------------------------------- 51.1/284.2 MB 14.2 MB/s eta 0:00:17\n",
      "   ------- -------------------------------- 51.8/284.2 MB 14.2 MB/s eta 0:00:17\n",
      "   ------- -------------------------------- 52.5/284.2 MB 14.2 MB/s eta 0:00:17\n",
      "   ------- -------------------------------- 53.1/284.2 MB 14.2 MB/s eta 0:00:17\n",
      "   ------- -------------------------------- 53.8/284.2 MB 14.2 MB/s eta 0:00:17\n",
      "   ------- -------------------------------- 54.5/284.2 MB 14.2 MB/s eta 0:00:17\n",
      "   ------- -------------------------------- 55.1/284.2 MB 14.2 MB/s eta 0:00:17\n",
      "   ------- -------------------------------- 55.8/284.2 MB 14.2 MB/s eta 0:00:17\n",
      "   ------- -------------------------------- 56.5/284.2 MB 13.9 MB/s eta 0:00:17\n",
      "   -------- ------------------------------- 57.1/284.2 MB 14.2 MB/s eta 0:00:16\n",
      "   -------- ------------------------------- 57.8/284.2 MB 14.2 MB/s eta 0:00:16\n",
      "   -------- ------------------------------- 58.5/284.2 MB 14.2 MB/s eta 0:00:16\n",
      "   -------- ------------------------------- 59.2/284.2 MB 13.9 MB/s eta 0:00:17\n",
      "   -------- ------------------------------- 59.8/284.2 MB 14.2 MB/s eta 0:00:16\n",
      "   -------- ------------------------------- 60.5/284.2 MB 14.6 MB/s eta 0:00:16\n",
      "   -------- ------------------------------- 61.2/284.2 MB 13.9 MB/s eta 0:00:17\n",
      "   -------- ------------------------------- 61.9/284.2 MB 14.6 MB/s eta 0:00:16\n",
      "   -------- ------------------------------- 62.5/284.2 MB 14.2 MB/s eta 0:00:16\n",
      "   -------- ------------------------------- 63.2/284.2 MB 13.9 MB/s eta 0:00:16\n",
      "   -------- ------------------------------- 63.9/284.2 MB 14.2 MB/s eta 0:00:16\n",
      "   --------- ------------------------------ 64.6/284.2 MB 13.9 MB/s eta 0:00:16\n",
      "   --------- ------------------------------ 65.2/284.2 MB 14.2 MB/s eta 0:00:16\n",
      "   --------- ------------------------------ 65.9/284.2 MB 14.2 MB/s eta 0:00:16\n",
      "   --------- ------------------------------ 66.6/284.2 MB 14.2 MB/s eta 0:00:16\n",
      "   --------- ------------------------------ 67.3/284.2 MB 14.2 MB/s eta 0:00:16\n",
      "   --------- ------------------------------ 67.9/284.2 MB 14.2 MB/s eta 0:00:16\n",
      "   --------- ------------------------------ 68.6/284.2 MB 14.2 MB/s eta 0:00:16\n",
      "   --------- ------------------------------ 69.2/284.2 MB 14.2 MB/s eta 0:00:16\n",
      "   --------- ------------------------------ 69.9/284.2 MB 14.2 MB/s eta 0:00:16\n",
      "   --------- ------------------------------ 70.6/284.2 MB 14.2 MB/s eta 0:00:16\n",
      "   ---------- ----------------------------- 71.2/284.2 MB 14.2 MB/s eta 0:00:15\n",
      "   ---------- ----------------------------- 71.9/284.2 MB 14.2 MB/s eta 0:00:15\n",
      "   ---------- ----------------------------- 72.6/284.2 MB 14.2 MB/s eta 0:00:15\n",
      "   ---------- ----------------------------- 73.2/284.2 MB 14.2 MB/s eta 0:00:15\n",
      "   ---------- ----------------------------- 73.9/284.2 MB 14.2 MB/s eta 0:00:15\n",
      "   ---------- ----------------------------- 74.6/284.2 MB 14.2 MB/s eta 0:00:15\n",
      "   ---------- ----------------------------- 75.3/284.2 MB 14.2 MB/s eta 0:00:15\n",
      "   ---------- ----------------------------- 75.9/284.2 MB 14.2 MB/s eta 0:00:15\n",
      "   ---------- ----------------------------- 76.6/284.2 MB 14.2 MB/s eta 0:00:15\n",
      "   ---------- ----------------------------- 77.3/284.2 MB 13.9 MB/s eta 0:00:15\n",
      "   ---------- ----------------------------- 78.0/284.2 MB 14.2 MB/s eta 0:00:15\n",
      "   ----------- ---------------------------- 78.6/284.2 MB 14.2 MB/s eta 0:00:15\n",
      "   ----------- ---------------------------- 79.3/284.2 MB 14.2 MB/s eta 0:00:15\n",
      "   ----------- ---------------------------- 80.0/284.2 MB 14.2 MB/s eta 0:00:15\n",
      "   ----------- ---------------------------- 80.7/284.2 MB 13.9 MB/s eta 0:00:15\n",
      "   ----------- ---------------------------- 81.3/284.2 MB 13.9 MB/s eta 0:00:15\n",
      "   ----------- ---------------------------- 82.0/284.2 MB 13.9 MB/s eta 0:00:15\n",
      "   ----------- ---------------------------- 82.7/284.2 MB 14.2 MB/s eta 0:00:15\n",
      "   ----------- ---------------------------- 83.3/284.2 MB 14.2 MB/s eta 0:00:15\n",
      "   ----------- ---------------------------- 84.0/284.2 MB 13.9 MB/s eta 0:00:15\n",
      "   ----------- ---------------------------- 84.7/284.2 MB 14.6 MB/s eta 0:00:14\n",
      "   ------------ --------------------------- 85.4/284.2 MB 13.9 MB/s eta 0:00:15\n",
      "   ------------ --------------------------- 86.0/284.2 MB 14.2 MB/s eta 0:00:14\n",
      "   ------------ --------------------------- 86.7/284.2 MB 14.6 MB/s eta 0:00:14\n",
      "   ------------ --------------------------- 87.3/284.2 MB 14.2 MB/s eta 0:00:14\n",
      "   ------------ --------------------------- 88.1/284.2 MB 14.2 MB/s eta 0:00:14\n",
      "   ------------ --------------------------- 88.7/284.2 MB 14.2 MB/s eta 0:00:14\n",
      "   ------------ --------------------------- 89.4/284.2 MB 14.2 MB/s eta 0:00:14\n",
      "   ------------ --------------------------- 90.0/284.2 MB 14.2 MB/s eta 0:00:14\n",
      "   ------------ --------------------------- 90.7/284.2 MB 14.2 MB/s eta 0:00:14\n",
      "   ------------ --------------------------- 91.4/284.2 MB 14.2 MB/s eta 0:00:14\n",
      "   ------------ --------------------------- 92.0/284.2 MB 14.2 MB/s eta 0:00:14\n",
      "   ------------- -------------------------- 92.7/284.2 MB 14.2 MB/s eta 0:00:14\n",
      "   ------------- -------------------------- 93.4/284.2 MB 14.2 MB/s eta 0:00:14\n",
      "   ------------- -------------------------- 94.1/284.2 MB 14.2 MB/s eta 0:00:14\n",
      "   ------------- -------------------------- 94.8/284.2 MB 14.2 MB/s eta 0:00:14\n",
      "   ------------- -------------------------- 95.4/284.2 MB 13.9 MB/s eta 0:00:14\n",
      "   ------------- -------------------------- 96.1/284.2 MB 13.9 MB/s eta 0:00:14\n",
      "   ------------- -------------------------- 96.8/284.2 MB 14.2 MB/s eta 0:00:14\n",
      "   ------------- -------------------------- 97.4/284.2 MB 13.9 MB/s eta 0:00:14\n",
      "   ------------- -------------------------- 98.1/284.2 MB 14.2 MB/s eta 0:00:14\n",
      "   ------------- -------------------------- 98.7/284.2 MB 14.2 MB/s eta 0:00:14\n",
      "   ------------- -------------------------- 99.4/284.2 MB 14.2 MB/s eta 0:00:13\n",
      "   ------------- ------------------------- 100.1/284.2 MB 14.2 MB/s eta 0:00:13\n",
      "   ------------- ------------------------- 100.8/284.2 MB 14.2 MB/s eta 0:00:13\n",
      "   ------------- ------------------------- 101.4/284.2 MB 13.9 MB/s eta 0:00:14\n",
      "   -------------- ------------------------ 102.1/284.2 MB 14.2 MB/s eta 0:00:13\n",
      "   -------------- ------------------------ 102.8/284.2 MB 13.9 MB/s eta 0:00:14\n",
      "   -------------- ------------------------ 103.4/284.2 MB 14.2 MB/s eta 0:00:13\n",
      "   -------------- ------------------------ 104.1/284.2 MB 13.9 MB/s eta 0:00:13\n",
      "   -------------- ------------------------ 104.8/284.2 MB 14.2 MB/s eta 0:00:13\n",
      "   -------------- ------------------------ 105.5/284.2 MB 14.2 MB/s eta 0:00:13\n",
      "   -------------- ------------------------ 106.1/284.2 MB 14.2 MB/s eta 0:00:13\n",
      "   -------------- ------------------------ 106.8/284.2 MB 14.2 MB/s eta 0:00:13\n",
      "   -------------- ------------------------ 107.4/284.2 MB 14.6 MB/s eta 0:00:13\n",
      "   -------------- ------------------------ 108.1/284.2 MB 14.2 MB/s eta 0:00:13\n",
      "   -------------- ------------------------ 108.8/284.2 MB 14.2 MB/s eta 0:00:13\n",
      "   --------------- ----------------------- 109.5/284.2 MB 14.2 MB/s eta 0:00:13\n",
      "   --------------- ----------------------- 110.1/284.2 MB 14.2 MB/s eta 0:00:13\n",
      "   --------------- ----------------------- 110.8/284.2 MB 14.2 MB/s eta 0:00:13\n",
      "   --------------- ----------------------- 111.5/284.2 MB 14.2 MB/s eta 0:00:13\n",
      "   --------------- ----------------------- 112.1/284.2 MB 14.2 MB/s eta 0:00:13\n",
      "   --------------- ----------------------- 112.8/284.2 MB 14.2 MB/s eta 0:00:13\n",
      "   --------------- ----------------------- 113.5/284.2 MB 14.2 MB/s eta 0:00:12\n",
      "   --------------- ----------------------- 114.2/284.2 MB 14.2 MB/s eta 0:00:12\n",
      "   --------------- ----------------------- 114.8/284.2 MB 14.2 MB/s eta 0:00:12\n",
      "   --------------- ----------------------- 115.5/284.2 MB 14.2 MB/s eta 0:00:12\n",
      "   --------------- ----------------------- 116.2/284.2 MB 14.2 MB/s eta 0:00:12\n",
      "   ---------------- ---------------------- 116.8/284.2 MB 14.6 MB/s eta 0:00:12\n",
      "   ---------------- ---------------------- 117.5/284.2 MB 14.2 MB/s eta 0:00:12\n",
      "   ---------------- ---------------------- 118.2/284.2 MB 14.2 MB/s eta 0:00:12\n",
      "   ---------------- ---------------------- 118.9/284.2 MB 14.2 MB/s eta 0:00:12\n",
      "   ---------------- ---------------------- 119.5/284.2 MB 14.2 MB/s eta 0:00:12\n",
      "   ---------------- ---------------------- 120.2/284.2 MB 14.2 MB/s eta 0:00:12\n",
      "   ---------------- ---------------------- 120.9/284.2 MB 14.2 MB/s eta 0:00:12\n",
      "   ---------------- ---------------------- 121.5/284.2 MB 14.2 MB/s eta 0:00:12\n",
      "   ---------------- ---------------------- 122.2/284.2 MB 14.2 MB/s eta 0:00:12\n",
      "   ---------------- ---------------------- 122.8/284.2 MB 14.2 MB/s eta 0:00:12\n",
      "   ---------------- ---------------------- 123.5/284.2 MB 14.2 MB/s eta 0:00:12\n",
      "   ----------------- --------------------- 124.2/284.2 MB 14.2 MB/s eta 0:00:12\n",
      "   ----------------- --------------------- 124.8/284.2 MB 14.2 MB/s eta 0:00:12\n",
      "   ----------------- --------------------- 125.5/284.2 MB 13.9 MB/s eta 0:00:12\n",
      "   ----------------- --------------------- 126.2/284.2 MB 14.2 MB/s eta 0:00:12\n",
      "   ----------------- --------------------- 126.9/284.2 MB 14.2 MB/s eta 0:00:12\n",
      "   ----------------- --------------------- 127.5/284.2 MB 13.9 MB/s eta 0:00:12\n",
      "   ----------------- --------------------- 128.2/284.2 MB 13.9 MB/s eta 0:00:12\n",
      "   ----------------- --------------------- 128.3/284.2 MB 14.2 MB/s eta 0:00:11\n",
      "   ----------------- --------------------- 128.3/284.2 MB 14.2 MB/s eta 0:00:11\n",
      "   ----------------- --------------------- 128.3/284.2 MB 14.2 MB/s eta 0:00:11\n",
      "   ----------------- --------------------- 130.5/284.2 MB 13.6 MB/s eta 0:00:12\n",
      "   ----------------- --------------------- 131.1/284.2 MB 13.9 MB/s eta 0:00:11\n",
      "   ------------------ -------------------- 131.8/284.2 MB 13.6 MB/s eta 0:00:12\n",
      "   ------------------ -------------------- 132.5/284.2 MB 13.6 MB/s eta 0:00:12\n",
      "   ------------------ -------------------- 133.1/284.2 MB 13.9 MB/s eta 0:00:11\n",
      "   ------------------ -------------------- 133.8/284.2 MB 13.6 MB/s eta 0:00:12\n",
      "   ------------------ -------------------- 134.5/284.2 MB 13.6 MB/s eta 0:00:11\n",
      "   ------------------ -------------------- 135.1/284.2 MB 13.6 MB/s eta 0:00:11\n",
      "   ------------------ -------------------- 135.8/284.2 MB 13.6 MB/s eta 0:00:11\n",
      "   ------------------ -------------------- 136.5/284.2 MB 13.6 MB/s eta 0:00:11\n",
      "   ------------------ -------------------- 137.2/284.2 MB 13.6 MB/s eta 0:00:11\n",
      "   ------------------ -------------------- 137.8/284.2 MB 13.6 MB/s eta 0:00:11\n",
      "   ------------------- ------------------- 138.5/284.2 MB 13.6 MB/s eta 0:00:11\n",
      "   ------------------- ------------------- 139.1/284.2 MB 16.0 MB/s eta 0:00:10\n",
      "   ------------------- ------------------- 139.8/284.2 MB 14.9 MB/s eta 0:00:10\n",
      "   ------------------- ------------------- 140.5/284.2 MB 13.9 MB/s eta 0:00:11\n",
      "   ------------------- ------------------- 141.2/284.2 MB 14.2 MB/s eta 0:00:11\n",
      "   ------------------- ------------------- 141.9/284.2 MB 14.2 MB/s eta 0:00:11\n",
      "   ------------------- ------------------- 142.5/284.2 MB 14.2 MB/s eta 0:00:10\n",
      "   ------------------- ------------------- 143.2/284.2 MB 14.2 MB/s eta 0:00:10\n",
      "   ------------------- ------------------- 143.9/284.2 MB 14.2 MB/s eta 0:00:10\n",
      "   ------------------- ------------------- 144.5/284.2 MB 13.9 MB/s eta 0:00:11\n",
      "   ------------------- ------------------- 145.2/284.2 MB 14.6 MB/s eta 0:00:10\n",
      "   -------------------- ------------------ 145.9/284.2 MB 14.2 MB/s eta 0:00:10\n",
      "   -------------------- ------------------ 146.6/284.2 MB 13.9 MB/s eta 0:00:10\n",
      "   -------------------- ------------------ 147.2/284.2 MB 14.2 MB/s eta 0:00:10\n",
      "   -------------------- ------------------ 147.9/284.2 MB 13.9 MB/s eta 0:00:10\n",
      "   -------------------- ------------------ 148.6/284.2 MB 14.2 MB/s eta 0:00:10\n",
      "   -------------------- ------------------ 149.2/284.2 MB 14.2 MB/s eta 0:00:10\n",
      "   -------------------- ------------------ 149.9/284.2 MB 13.9 MB/s eta 0:00:10\n",
      "   -------------------- ------------------ 150.5/284.2 MB 14.2 MB/s eta 0:00:10\n",
      "   -------------------- ------------------ 151.2/284.2 MB 14.2 MB/s eta 0:00:10\n",
      "   -------------------- ------------------ 151.9/284.2 MB 14.2 MB/s eta 0:00:10\n",
      "   -------------------- ------------------ 152.6/284.2 MB 14.2 MB/s eta 0:00:10\n",
      "   --------------------- ----------------- 153.2/284.2 MB 14.2 MB/s eta 0:00:10\n",
      "   --------------------- ----------------- 153.9/284.2 MB 14.2 MB/s eta 0:00:10\n",
      "   --------------------- ----------------- 154.6/284.2 MB 14.2 MB/s eta 0:00:10\n",
      "   --------------------- ----------------- 155.2/284.2 MB 14.2 MB/s eta 0:00:10\n",
      "   --------------------- ----------------- 155.9/284.2 MB 14.2 MB/s eta 0:00:10\n",
      "   --------------------- ----------------- 156.6/284.2 MB 14.2 MB/s eta 0:00:09\n",
      "   --------------------- ----------------- 157.3/284.2 MB 14.2 MB/s eta 0:00:09\n",
      "   --------------------- ----------------- 157.9/284.2 MB 14.2 MB/s eta 0:00:09\n",
      "   --------------------- ----------------- 158.6/284.2 MB 14.2 MB/s eta 0:00:09\n",
      "   --------------------- ----------------- 159.3/284.2 MB 14.2 MB/s eta 0:00:09\n",
      "   --------------------- ----------------- 159.9/284.2 MB 14.2 MB/s eta 0:00:09\n",
      "   ---------------------- ---------------- 160.6/284.2 MB 14.2 MB/s eta 0:00:09\n",
      "   ---------------------- ---------------- 161.3/284.2 MB 14.2 MB/s eta 0:00:09\n",
      "   ---------------------- ---------------- 161.9/284.2 MB 14.2 MB/s eta 0:00:09\n",
      "   ---------------------- ---------------- 162.6/284.2 MB 14.2 MB/s eta 0:00:09\n",
      "   ---------------------- ---------------- 163.3/284.2 MB 14.2 MB/s eta 0:00:09\n",
      "   ---------------------- ---------------- 164.0/284.2 MB 14.2 MB/s eta 0:00:09\n",
      "   ---------------------- ---------------- 164.6/284.2 MB 14.2 MB/s eta 0:00:09\n",
      "   ---------------------- ---------------- 165.3/284.2 MB 14.2 MB/s eta 0:00:09\n",
      "   ---------------------- ---------------- 166.0/284.2 MB 14.2 MB/s eta 0:00:09\n",
      "   ---------------------- ---------------- 166.6/284.2 MB 14.2 MB/s eta 0:00:09\n",
      "   ---------------------- ---------------- 167.3/284.2 MB 13.9 MB/s eta 0:00:09\n",
      "   ----------------------- --------------- 168.0/284.2 MB 14.2 MB/s eta 0:00:09\n",
      "   ----------------------- --------------- 168.6/284.2 MB 14.2 MB/s eta 0:00:09\n",
      "   ----------------------- --------------- 169.3/284.2 MB 14.2 MB/s eta 0:00:09\n",
      "   ----------------------- --------------- 170.0/284.2 MB 14.2 MB/s eta 0:00:09\n",
      "   ----------------------- --------------- 170.7/284.2 MB 13.9 MB/s eta 0:00:09\n",
      "   ----------------------- --------------- 171.3/284.2 MB 14.2 MB/s eta 0:00:08\n",
      "   ----------------------- --------------- 172.0/284.2 MB 14.2 MB/s eta 0:00:08\n",
      "   ----------------------- --------------- 172.7/284.2 MB 13.9 MB/s eta 0:00:09\n",
      "   ----------------------- --------------- 173.3/284.2 MB 14.6 MB/s eta 0:00:08\n",
      "   ----------------------- --------------- 174.0/284.2 MB 14.2 MB/s eta 0:00:08\n",
      "   ----------------------- --------------- 174.7/284.2 MB 14.2 MB/s eta 0:00:08\n",
      "   ------------------------ -------------- 175.3/284.2 MB 14.6 MB/s eta 0:00:08\n",
      "   ------------------------ -------------- 176.0/284.2 MB 14.2 MB/s eta 0:00:08\n",
      "   ------------------------ -------------- 176.7/284.2 MB 14.2 MB/s eta 0:00:08\n",
      "   ------------------------ -------------- 177.4/284.2 MB 14.2 MB/s eta 0:00:08\n",
      "   ------------------------ -------------- 178.0/284.2 MB 14.2 MB/s eta 0:00:08\n",
      "   ------------------------ -------------- 178.7/284.2 MB 14.2 MB/s eta 0:00:08\n",
      "   ------------------------ -------------- 179.4/284.2 MB 14.2 MB/s eta 0:00:08\n",
      "   ------------------------ -------------- 180.1/284.2 MB 14.2 MB/s eta 0:00:08\n",
      "   ------------------------ -------------- 180.7/284.2 MB 14.2 MB/s eta 0:00:08\n",
      "   ------------------------ -------------- 181.4/284.2 MB 14.2 MB/s eta 0:00:08\n",
      "   ------------------------ -------------- 182.1/284.2 MB 14.2 MB/s eta 0:00:08\n",
      "   ------------------------- ------------- 182.7/284.2 MB 14.2 MB/s eta 0:00:08\n",
      "   ------------------------- ------------- 183.4/284.2 MB 14.2 MB/s eta 0:00:08\n",
      "   ------------------------- ------------- 183.7/284.2 MB 14.2 MB/s eta 0:00:08\n",
      "   ------------------------- ------------- 183.7/284.2 MB 14.2 MB/s eta 0:00:08\n",
      "   ------------------------- ------------- 183.7/284.2 MB 14.2 MB/s eta 0:00:08\n",
      "   ------------------------- ------------- 186.1/284.2 MB 14.2 MB/s eta 0:00:07\n",
      "   ------------------------- ------------- 186.7/284.2 MB 14.2 MB/s eta 0:00:07\n",
      "   ------------------------- ------------- 187.4/284.2 MB 14.2 MB/s eta 0:00:07\n",
      "   ------------------------- ------------- 188.1/284.2 MB 14.2 MB/s eta 0:00:07\n",
      "   ------------------------- ------------- 188.8/284.2 MB 13.9 MB/s eta 0:00:07\n",
      "   ------------------------- ------------- 189.4/284.2 MB 14.2 MB/s eta 0:00:07\n",
      "   -------------------------- ------------ 190.1/284.2 MB 13.9 MB/s eta 0:00:07\n",
      "   -------------------------- ------------ 190.8/284.2 MB 13.9 MB/s eta 0:00:07\n",
      "   -------------------------- ------------ 191.5/284.2 MB 14.5 MB/s eta 0:00:07\n",
      "   -------------------------- ------------ 192.1/284.2 MB 13.9 MB/s eta 0:00:07\n",
      "   -------------------------- ------------ 192.8/284.2 MB 13.9 MB/s eta 0:00:07\n",
      "   -------------------------- ------------ 193.5/284.2 MB 14.2 MB/s eta 0:00:07\n",
      "   -------------------------- ------------ 194.1/284.2 MB 16.8 MB/s eta 0:00:06\n",
      "   -------------------------- ------------ 194.8/284.2 MB 16.0 MB/s eta 0:00:06\n",
      "   -------------------------- ------------ 195.4/284.2 MB 14.9 MB/s eta 0:00:06\n",
      "   -------------------------- ------------ 196.1/284.2 MB 14.2 MB/s eta 0:00:07\n",
      "   --------------------------- ----------- 196.8/284.2 MB 14.5 MB/s eta 0:00:07\n",
      "   --------------------------- ----------- 197.5/284.2 MB 14.2 MB/s eta 0:00:07\n",
      "   --------------------------- ----------- 198.2/284.2 MB 14.2 MB/s eta 0:00:07\n",
      "   --------------------------- ----------- 198.8/284.2 MB 14.2 MB/s eta 0:00:06\n",
      "   --------------------------- ----------- 199.5/284.2 MB 14.2 MB/s eta 0:00:06\n",
      "   --------------------------- ----------- 200.2/284.2 MB 14.2 MB/s eta 0:00:06\n",
      "   --------------------------- ----------- 200.8/284.2 MB 14.2 MB/s eta 0:00:06\n",
      "   --------------------------- ----------- 201.5/284.2 MB 14.2 MB/s eta 0:00:06\n",
      "   --------------------------- ----------- 202.2/284.2 MB 14.2 MB/s eta 0:00:06\n",
      "   --------------------------- ----------- 202.8/284.2 MB 14.2 MB/s eta 0:00:06\n",
      "   --------------------------- ----------- 203.5/284.2 MB 14.2 MB/s eta 0:00:06\n",
      "   ---------------------------- ---------- 204.2/284.2 MB 14.2 MB/s eta 0:00:06\n",
      "   ---------------------------- ---------- 204.9/284.2 MB 14.2 MB/s eta 0:00:06\n",
      "   ---------------------------- ---------- 205.5/284.2 MB 14.2 MB/s eta 0:00:06\n",
      "   ---------------------------- ---------- 206.2/284.2 MB 14.2 MB/s eta 0:00:06\n",
      "   ---------------------------- ---------- 206.8/284.2 MB 14.2 MB/s eta 0:00:06\n",
      "   ---------------------------- ---------- 207.5/284.2 MB 14.2 MB/s eta 0:00:06\n",
      "   ---------------------------- ---------- 208.2/284.2 MB 14.2 MB/s eta 0:00:06\n",
      "   ---------------------------- ---------- 208.8/284.2 MB 13.9 MB/s eta 0:00:06\n",
      "   ---------------------------- ---------- 209.5/284.2 MB 14.2 MB/s eta 0:00:06\n",
      "   ---------------------------- ---------- 210.2/284.2 MB 14.2 MB/s eta 0:00:06\n",
      "   ---------------------------- ---------- 210.8/284.2 MB 14.2 MB/s eta 0:00:06\n",
      "   ----------------------------- --------- 211.5/284.2 MB 14.2 MB/s eta 0:00:06\n",
      "   ----------------------------- --------- 212.2/284.2 MB 13.9 MB/s eta 0:00:06\n",
      "   ----------------------------- --------- 212.9/284.2 MB 14.2 MB/s eta 0:00:06\n",
      "   ----------------------------- --------- 213.5/284.2 MB 14.2 MB/s eta 0:00:05\n",
      "   ----------------------------- --------- 214.2/284.2 MB 13.9 MB/s eta 0:00:06\n",
      "   ----------------------------- --------- 214.9/284.2 MB 14.2 MB/s eta 0:00:05\n",
      "   ----------------------------- --------- 215.5/284.2 MB 14.2 MB/s eta 0:00:05\n",
      "   ----------------------------- --------- 216.2/284.2 MB 14.5 MB/s eta 0:00:05\n",
      "   ----------------------------- --------- 216.8/284.2 MB 13.9 MB/s eta 0:00:05\n",
      "   ----------------------------- --------- 217.5/284.2 MB 13.9 MB/s eta 0:00:05\n",
      "   ----------------------------- --------- 218.2/284.2 MB 14.6 MB/s eta 0:00:05\n",
      "   ------------------------------ -------- 218.9/284.2 MB 14.2 MB/s eta 0:00:05\n",
      "   ------------------------------ -------- 219.5/284.2 MB 14.2 MB/s eta 0:00:05\n",
      "   ------------------------------ -------- 220.2/284.2 MB 14.2 MB/s eta 0:00:05\n",
      "   ------------------------------ -------- 220.9/284.2 MB 14.2 MB/s eta 0:00:05\n",
      "   ------------------------------ -------- 221.5/284.2 MB 14.2 MB/s eta 0:00:05\n",
      "   ------------------------------ -------- 222.2/284.2 MB 14.2 MB/s eta 0:00:05\n",
      "   ------------------------------ -------- 222.9/284.2 MB 14.2 MB/s eta 0:00:05\n",
      "   ------------------------------ -------- 223.6/284.2 MB 14.2 MB/s eta 0:00:05\n",
      "   ------------------------------ -------- 224.2/284.2 MB 14.2 MB/s eta 0:00:05\n",
      "   ------------------------------ -------- 224.9/284.2 MB 14.2 MB/s eta 0:00:05\n",
      "   ------------------------------ -------- 225.6/284.2 MB 14.2 MB/s eta 0:00:05\n",
      "   ------------------------------- ------- 226.3/284.2 MB 14.2 MB/s eta 0:00:05\n",
      "   ------------------------------- ------- 226.9/284.2 MB 13.9 MB/s eta 0:00:05\n",
      "   ------------------------------- ------- 227.6/284.2 MB 14.2 MB/s eta 0:00:04\n",
      "   ------------------------------- ------- 228.3/284.2 MB 13.9 MB/s eta 0:00:05\n",
      "   ------------------------------- ------- 228.9/284.2 MB 13.9 MB/s eta 0:00:04\n",
      "   ------------------------------- ------- 229.6/284.2 MB 14.2 MB/s eta 0:00:04\n",
      "   ------------------------------- ------- 230.3/284.2 MB 14.2 MB/s eta 0:00:04\n",
      "   ------------------------------- ------- 231.0/284.2 MB 13.9 MB/s eta 0:00:04\n",
      "   ------------------------------- ------- 231.6/284.2 MB 14.2 MB/s eta 0:00:04\n",
      "   ------------------------------- ------- 232.3/284.2 MB 13.9 MB/s eta 0:00:04\n",
      "   ------------------------------- ------- 232.9/284.2 MB 14.2 MB/s eta 0:00:04\n",
      "   -------------------------------- ------ 233.6/284.2 MB 14.2 MB/s eta 0:00:04\n",
      "   -------------------------------- ------ 234.3/284.2 MB 13.9 MB/s eta 0:00:04\n",
      "   -------------------------------- ------ 235.0/284.2 MB 14.2 MB/s eta 0:00:04\n",
      "   -------------------------------- ------ 235.6/284.2 MB 13.9 MB/s eta 0:00:04\n",
      "   -------------------------------- ------ 236.3/284.2 MB 14.2 MB/s eta 0:00:04\n",
      "   -------------------------------- ------ 237.0/284.2 MB 14.6 MB/s eta 0:00:04\n",
      "   -------------------------------- ------ 237.7/284.2 MB 14.2 MB/s eta 0:00:04\n",
      "   -------------------------------- ------ 238.3/284.2 MB 14.2 MB/s eta 0:00:04\n",
      "   -------------------------------- ------ 239.0/284.2 MB 14.2 MB/s eta 0:00:04\n",
      "   -------------------------------- ------ 239.7/284.2 MB 14.2 MB/s eta 0:00:04\n",
      "   -------------------------------- ------ 240.3/284.2 MB 14.6 MB/s eta 0:00:04\n",
      "   --------------------------------- ----- 241.0/284.2 MB 14.2 MB/s eta 0:00:04\n",
      "   --------------------------------- ----- 241.7/284.2 MB 14.2 MB/s eta 0:00:03\n",
      "   --------------------------------- ----- 242.3/284.2 MB 14.2 MB/s eta 0:00:03\n",
      "   --------------------------------- ----- 243.0/284.2 MB 14.2 MB/s eta 0:00:03\n",
      "   --------------------------------- ----- 243.7/284.2 MB 14.2 MB/s eta 0:00:03\n",
      "   --------------------------------- ----- 244.4/284.2 MB 14.2 MB/s eta 0:00:03\n",
      "   --------------------------------- ----- 245.0/284.2 MB 14.2 MB/s eta 0:00:03\n",
      "   --------------------------------- ----- 245.7/284.2 MB 14.2 MB/s eta 0:00:03\n",
      "   --------------------------------- ----- 246.4/284.2 MB 14.2 MB/s eta 0:00:03\n",
      "   --------------------------------- ----- 247.0/284.2 MB 14.2 MB/s eta 0:00:03\n",
      "   --------------------------------- ----- 247.7/284.2 MB 13.9 MB/s eta 0:00:03\n",
      "   ---------------------------------- ---- 248.4/284.2 MB 14.2 MB/s eta 0:00:03\n",
      "   ---------------------------------- ---- 249.1/284.2 MB 14.2 MB/s eta 0:00:03\n",
      "   ---------------------------------- ---- 249.7/284.2 MB 14.2 MB/s eta 0:00:03\n",
      "   ---------------------------------- ---- 250.4/284.2 MB 14.2 MB/s eta 0:00:03\n",
      "   ---------------------------------- ---- 251.0/284.2 MB 14.2 MB/s eta 0:00:03\n",
      "   ---------------------------------- ---- 251.7/284.2 MB 14.2 MB/s eta 0:00:03\n",
      "   ---------------------------------- ---- 252.4/284.2 MB 14.2 MB/s eta 0:00:03\n",
      "   ---------------------------------- ---- 253.0/284.2 MB 14.2 MB/s eta 0:00:03\n",
      "   ---------------------------------- ---- 253.7/284.2 MB 14.2 MB/s eta 0:00:03\n",
      "   ---------------------------------- ---- 254.4/284.2 MB 13.9 MB/s eta 0:00:03\n",
      "   ----------------------------------- --- 255.1/284.2 MB 13.9 MB/s eta 0:00:03\n",
      "   ----------------------------------- --- 255.7/284.2 MB 14.2 MB/s eta 0:00:02\n",
      "   ----------------------------------- --- 256.4/284.2 MB 13.9 MB/s eta 0:00:02\n",
      "   ----------------------------------- --- 257.1/284.2 MB 14.2 MB/s eta 0:00:02\n",
      "   ----------------------------------- --- 257.8/284.2 MB 14.2 MB/s eta 0:00:02\n",
      "   ----------------------------------- --- 258.4/284.2 MB 14.2 MB/s eta 0:00:02\n",
      "   ----------------------------------- --- 259.1/284.2 MB 14.2 MB/s eta 0:00:02\n",
      "   ----------------------------------- --- 259.8/284.2 MB 14.2 MB/s eta 0:00:02\n",
      "   ----------------------------------- --- 260.4/284.2 MB 14.2 MB/s eta 0:00:02\n",
      "   ----------------------------------- --- 261.1/284.2 MB 14.2 MB/s eta 0:00:02\n",
      "   ----------------------------------- --- 261.8/284.2 MB 14.2 MB/s eta 0:00:02\n",
      "   ------------------------------------ -- 262.4/284.2 MB 14.2 MB/s eta 0:00:02\n",
      "   ------------------------------------ -- 263.1/284.2 MB 14.2 MB/s eta 0:00:02\n",
      "   ------------------------------------ -- 263.8/284.2 MB 14.2 MB/s eta 0:00:02\n",
      "   ------------------------------------ -- 264.4/284.2 MB 14.2 MB/s eta 0:00:02\n",
      "   ------------------------------------ -- 265.1/284.2 MB 14.2 MB/s eta 0:00:02\n",
      "   ------------------------------------ -- 265.8/284.2 MB 14.2 MB/s eta 0:00:02\n",
      "   ------------------------------------ -- 266.5/284.2 MB 14.2 MB/s eta 0:00:02\n",
      "   ------------------------------------ -- 267.2/284.2 MB 14.2 MB/s eta 0:00:02\n",
      "   ------------------------------------ -- 267.8/284.2 MB 14.2 MB/s eta 0:00:02\n",
      "   ------------------------------------ -- 268.5/284.2 MB 14.2 MB/s eta 0:00:02\n",
      "   ------------------------------------ -- 269.2/284.2 MB 14.2 MB/s eta 0:00:02\n",
      "   ------------------------------------- - 269.8/284.2 MB 14.2 MB/s eta 0:00:02\n",
      "   ------------------------------------- - 270.5/284.2 MB 14.2 MB/s eta 0:00:01\n",
      "   ------------------------------------- - 271.2/284.2 MB 14.2 MB/s eta 0:00:01\n",
      "   ------------------------------------- - 271.8/284.2 MB 14.2 MB/s eta 0:00:01\n",
      "   ------------------------------------- - 272.5/284.2 MB 14.6 MB/s eta 0:00:01\n",
      "   ------------------------------------- - 273.2/284.2 MB 13.9 MB/s eta 0:00:01\n",
      "   ------------------------------------- - 273.9/284.2 MB 14.2 MB/s eta 0:00:01\n",
      "   ------------------------------------- - 274.4/284.2 MB 13.9 MB/s eta 0:00:01\n",
      "   ------------------------------------- - 275.0/284.2 MB 13.9 MB/s eta 0:00:01\n",
      "   ------------------------------------- - 275.6/284.2 MB 14.2 MB/s eta 0:00:01\n",
      "   ------------------------------------- - 276.1/284.2 MB 14.2 MB/s eta 0:00:01\n",
      "   ------------------------------------- - 276.7/284.2 MB 13.9 MB/s eta 0:00:01\n",
      "   --------------------------------------  277.3/284.2 MB 13.9 MB/s eta 0:00:01\n",
      "   --------------------------------------  277.8/284.2 MB 14.2 MB/s eta 0:00:01\n",
      "   --------------------------------------  278.3/284.2 MB 14.2 MB/s eta 0:00:01\n",
      "   --------------------------------------  278.9/284.2 MB 13.9 MB/s eta 0:00:01\n",
      "   --------------------------------------  279.4/284.2 MB 14.2 MB/s eta 0:00:01\n",
      "   --------------------------------------  280.0/284.2 MB 13.9 MB/s eta 0:00:01\n",
      "   --------------------------------------  280.7/284.2 MB 13.9 MB/s eta 0:00:01\n",
      "   --------------------------------------  281.4/284.2 MB 13.9 MB/s eta 0:00:01\n",
      "   --------------------------------------  281.9/284.2 MB 14.2 MB/s eta 0:00:01\n",
      "   --------------------------------------  282.5/284.2 MB 13.9 MB/s eta 0:00:01\n",
      "   --------------------------------------  283.0/284.2 MB 14.2 MB/s eta 0:00:01\n",
      "   --------------------------------------  283.5/284.2 MB 14.2 MB/s eta 0:00:01\n",
      "   --------------------------------------  284.0/284.2 MB 13.9 MB/s eta 0:00:01\n",
      "   --------------------------------------  284.2/284.2 MB 14.2 MB/s eta 0:00:01\n",
      "   --------------------------------------  284.2/284.2 MB 14.2 MB/s eta 0:00:01\n",
      "   --------------------------------------  284.2/284.2 MB 14.2 MB/s eta 0:00:01\n",
      "   --------------------------------------  284.2/284.2 MB 14.2 MB/s eta 0:00:01\n",
      "   --------------------------------------  284.2/284.2 MB 14.2 MB/s eta 0:00:01\n",
      "   --------------------------------------  284.2/284.2 MB 14.2 MB/s eta 0:00:01\n",
      "   --------------------------------------  284.2/284.2 MB 14.2 MB/s eta 0:00:01\n",
      "   --------------------------------------  284.2/284.2 MB 14.2 MB/s eta 0:00:01\n",
      "   --------------------------------------  284.2/284.2 MB 14.2 MB/s eta 0:00:01\n",
      "   --------------------------------------  284.2/284.2 MB 14.2 MB/s eta 0:00:01\n",
      "   --------------------------------------  284.2/284.2 MB 14.2 MB/s eta 0:00:01\n",
      "   --------------------------------------  284.2/284.2 MB 14.2 MB/s eta 0:00:01\n",
      "   --------------------------------------  284.2/284.2 MB 14.2 MB/s eta 0:00:01\n",
      "   --------------------------------------  284.2/284.2 MB 14.2 MB/s eta 0:00:01\n",
      "   --------------------------------------  284.2/284.2 MB 14.2 MB/s eta 0:00:01\n",
      "   ---------------------------------------- 284.2/284.2 MB 5.6 MB/s eta 0:00:00\n",
      "Downloading ml_dtypes-0.2.0-cp311-cp311-win_amd64.whl (938 kB)\n",
      "   ---------------------------------------- 0.0/938.7 kB ? eta -:--:--\n",
      "   ---------------------------------- ---- 819.2/938.7 kB 17.2 MB/s eta 0:00:01\n",
      "   --------------------------------------- 938.7/938.7 kB 14.7 MB/s eta 0:00:00\n",
      "Downloading absl_py-2.0.0-py3-none-any.whl (130 kB)\n",
      "   ---------------------------------------- 0.0/130.2 kB ? eta -:--:--\n",
      "   ---------------------------------------- 130.2/130.2 kB 7.5 MB/s eta 0:00:00\n",
      "Downloading flatbuffers-23.5.26-py2.py3-none-any.whl (26 kB)\n",
      "Downloading grpcio-1.59.2-cp311-cp311-win_amd64.whl (3.7 MB)\n",
      "   ---------------------------------------- 0.0/3.7 MB ? eta -:--:--\n",
      "   -------- ------------------------------- 0.8/3.7 MB 16.3 MB/s eta 0:00:01\n",
      "   --------------- ------------------------ 1.4/3.7 MB 15.3 MB/s eta 0:00:01\n",
      "   ---------------------- ----------------- 2.1/3.7 MB 14.7 MB/s eta 0:00:01\n",
      "   ------------------------------ --------- 2.8/3.7 MB 14.7 MB/s eta 0:00:01\n",
      "   ------------------------------------- -- 3.5/3.7 MB 14.7 MB/s eta 0:00:01\n",
      "   ---------------------------------------- 3.7/3.7 MB 13.0 MB/s eta 0:00:00\n",
      "Downloading keras-2.14.0-py3-none-any.whl (1.7 MB)\n",
      "   ---------------------------------------- 0.0/1.7 MB ? eta -:--:--\n",
      "   ------------- -------------------------- 0.6/1.7 MB 17.8 MB/s eta 0:00:01\n",
      "   -------------------------- ------------- 1.1/1.7 MB 14.6 MB/s eta 0:00:01\n",
      "   ---------------------------------------  1.7/1.7 MB 13.5 MB/s eta 0:00:01\n",
      "   ---------------------------------------- 1.7/1.7 MB 12.0 MB/s eta 0:00:00\n",
      "Downloading libclang-16.0.6-py2.py3-none-win_amd64.whl (24.4 MB)\n",
      "   ---------------------------------------- 0.0/24.4 MB ? eta -:--:--\n",
      "   - -------------------------------------- 0.7/24.4 MB 23.0 MB/s eta 0:00:02\n",
      "   -- ------------------------------------- 1.4/24.4 MB 18.0 MB/s eta 0:00:02\n",
      "   --- ------------------------------------ 2.0/24.4 MB 16.1 MB/s eta 0:00:02\n",
      "   ---- ----------------------------------- 2.7/24.4 MB 15.5 MB/s eta 0:00:02\n",
      "   ----- ---------------------------------- 3.3/24.4 MB 15.2 MB/s eta 0:00:02\n",
      "   ------ --------------------------------- 4.0/24.4 MB 15.2 MB/s eta 0:00:02\n",
      "   ------- -------------------------------- 4.7/24.4 MB 15.0 MB/s eta 0:00:02\n",
      "   -------- ------------------------------- 5.4/24.4 MB 14.9 MB/s eta 0:00:02\n",
      "   --------- ------------------------------ 6.1/24.4 MB 14.8 MB/s eta 0:00:02\n",
      "   ---------- ----------------------------- 6.7/24.4 MB 14.8 MB/s eta 0:00:02\n",
      "   ------------ --------------------------- 7.4/24.4 MB 14.7 MB/s eta 0:00:02\n",
      "   ------------ --------------------------- 7.9/24.4 MB 14.5 MB/s eta 0:00:02\n",
      "   -------------- ------------------------- 8.6/24.4 MB 14.5 MB/s eta 0:00:02\n",
      "   -------------- ------------------------- 9.1/24.4 MB 14.6 MB/s eta 0:00:02\n",
      "   --------------- ------------------------ 9.7/24.4 MB 14.4 MB/s eta 0:00:02\n",
      "   ---------------- ----------------------- 10.2/24.4 MB 14.5 MB/s eta 0:00:01\n",
      "   ----------------- ---------------------- 10.8/24.4 MB 14.2 MB/s eta 0:00:01\n",
      "   ------------------ --------------------- 11.5/24.4 MB 14.2 MB/s eta 0:00:01\n",
      "   ------------------- -------------------- 12.2/24.4 MB 14.5 MB/s eta 0:00:01\n",
      "   --------------------- ------------------ 12.9/24.4 MB 14.2 MB/s eta 0:00:01\n",
      "   --------------------- ------------------ 13.4/24.4 MB 14.2 MB/s eta 0:00:01\n",
      "   ----------------------- ---------------- 14.1/24.4 MB 13.9 MB/s eta 0:00:01\n",
      "   ------------------------ --------------- 14.7/24.4 MB 14.6 MB/s eta 0:00:01\n",
      "   ------------------------- -------------- 15.4/24.4 MB 14.2 MB/s eta 0:00:01\n",
      "   -------------------------- ------------- 16.0/24.4 MB 14.2 MB/s eta 0:00:01\n",
      "   -------------------------- ------------- 16.5/24.4 MB 13.9 MB/s eta 0:00:01\n",
      "   ---------------------------- ----------- 17.2/24.4 MB 14.2 MB/s eta 0:00:01\n",
      "   ----------------------------- ---------- 17.8/24.4 MB 13.9 MB/s eta 0:00:01\n",
      "   ------------------------------ --------- 18.5/24.4 MB 14.6 MB/s eta 0:00:01\n",
      "   ------------------------------- -------- 19.2/24.4 MB 13.9 MB/s eta 0:00:01\n",
      "   -------------------------------- ------- 19.7/24.4 MB 14.2 MB/s eta 0:00:01\n",
      "   --------------------------------- ------ 20.4/24.4 MB 14.2 MB/s eta 0:00:01\n",
      "   ---------------------------------- ----- 20.9/24.4 MB 14.2 MB/s eta 0:00:01\n",
      "   ----------------------------------- ---- 21.6/24.4 MB 13.9 MB/s eta 0:00:01\n",
      "   ------------------------------------ --- 22.3/24.4 MB 14.2 MB/s eta 0:00:01\n",
      "   ------------------------------------- -- 23.0/24.4 MB 14.2 MB/s eta 0:00:01\n",
      "   -------------------------------------- - 23.6/24.4 MB 14.6 MB/s eta 0:00:01\n",
      "   ---------------------------------------  24.2/24.4 MB 13.9 MB/s eta 0:00:01\n",
      "   ---------------------------------------  24.4/24.4 MB 13.9 MB/s eta 0:00:01\n",
      "   ---------------------------------------- 24.4/24.4 MB 12.8 MB/s eta 0:00:00\n",
      "Downloading protobuf-4.25.0-cp310-abi3-win_amd64.whl (413 kB)\n",
      "   ---------------------------------------- 0.0/413.2 kB ? eta -:--:--\n",
      "   --------------------------------------- 413.2/413.2 kB 13.0 MB/s eta 0:00:00\n",
      "Downloading tensorboard-2.14.1-py3-none-any.whl (5.5 MB)\n",
      "   ---------------------------------------- 0.0/5.5 MB ? eta -:--:--\n",
      "   ----- ---------------------------------- 0.8/5.5 MB 17.2 MB/s eta 0:00:01\n",
      "   ----------- ---------------------------- 1.5/5.5 MB 16.0 MB/s eta 0:00:01\n",
      "   --------------- ------------------------ 2.2/5.5 MB 15.3 MB/s eta 0:00:01\n",
      "   -------------------- ------------------- 2.8/5.5 MB 14.0 MB/s eta 0:00:01\n",
      "   ------------------------- -------------- 3.5/5.5 MB 15.1 MB/s eta 0:00:01\n",
      "   ----------------------------- ---------- 4.1/5.5 MB 14.4 MB/s eta 0:00:01\n",
      "   ----------------------------------- ---- 4.8/5.5 MB 14.7 MB/s eta 0:00:01\n",
      "   ---------------------------------------  5.4/5.5 MB 14.3 MB/s eta 0:00:01\n",
      "   ---------------------------------------- 5.5/5.5 MB 13.5 MB/s eta 0:00:00\n",
      "Downloading tensorflow_estimator-2.14.0-py2.py3-none-any.whl (440 kB)\n",
      "   ---------------------------------------- 0.0/440.7 kB ? eta -:--:--\n",
      "   --------------------------------------- 440.7/440.7 kB 13.9 MB/s eta 0:00:00\n",
      "Downloading google_auth-2.23.4-py2.py3-none-any.whl (183 kB)\n",
      "   ---------------------------------------- 0.0/183.3 kB ? eta -:--:--\n",
      "   ---------------------------------------- 183.3/183.3 kB ? eta 0:00:00\n",
      "Downloading tensorboard_data_server-0.7.2-py3-none-any.whl (2.4 kB)\n",
      "Downloading cachetools-5.3.2-py3-none-any.whl (9.3 kB)\n",
      "Installing collected packages: libclang, flatbuffers, termcolor, tensorflow-io-gcs-filesystem, tensorflow-estimator, tensorboard-data-server, rsa, protobuf, opt-einsum, oauthlib, ml-dtypes, keras, grpcio, google-pasta, gast, cachetools, astunparse, absl-py, requests-oauthlib, google-auth, google-auth-oauthlib, tensorboard, tensorflow-intel, tensorflow\n",
      "Successfully installed absl-py-2.0.0 astunparse-1.6.3 cachetools-5.3.2 flatbuffers-23.5.26 gast-0.5.4 google-auth-2.23.4 google-auth-oauthlib-1.0.0 google-pasta-0.2.0 grpcio-1.59.2 keras-2.14.0 libclang-16.0.6 ml-dtypes-0.2.0 oauthlib-3.2.2 opt-einsum-3.3.0 protobuf-4.25.0 requests-oauthlib-1.3.1 rsa-4.9 tensorboard-2.14.1 tensorboard-data-server-0.7.2 tensorflow-2.14.0 tensorflow-estimator-2.14.0 tensorflow-intel-2.14.0 tensorflow-io-gcs-filesystem-0.31.0 termcolor-2.3.0\n",
      "Note: you may need to restart the kernel to use updated packages.\n"
     ]
    }
   ],
   "source": [
    "pip install tensorflow"
   ]
  },
  {
   "cell_type": "markdown",
   "id": "04f1a6cb",
   "metadata": {},
   "source": [
    "#### Installing Matplot library.\n",
    "A complete Python visualisation toolkit for static, animated, and interactive graphics is called Matplotlib. Matplotlib enables both difficult and easy tasks.\n",
    "\n",
    "Make plots fit for publication.\n",
    "Create dynamic figures with zoom, pan, and update capabilities.\n",
    "Personalise the layout and visual design.\n",
    "\n",
    "Export in a variety of file types.\n",
    "\n",
    "Integrate graphical user interfaces and JupyterLab.\n",
    "\n",
    "Utilise a wide range of third-party packages constructed using Matplotlib.\n",
    "\n"
   ]
  },
  {
   "cell_type": "code",
   "execution_count": 6,
   "id": "f9a24b0d",
   "metadata": {},
   "outputs": [
    {
     "name": "stdout",
     "output_type": "stream",
     "text": [
      "Requirement already satisfied: matplotlib in c:\\users\\peddo\\anaconda3\\lib\\site-packages (3.7.1)Note: you may need to restart the kernel to use updated packages.\n",
      "\n",
      "Requirement already satisfied: contourpy>=1.0.1 in c:\\users\\peddo\\anaconda3\\lib\\site-packages (from matplotlib) (1.0.5)\n",
      "Requirement already satisfied: cycler>=0.10 in c:\\users\\peddo\\anaconda3\\lib\\site-packages (from matplotlib) (0.11.0)\n",
      "Requirement already satisfied: fonttools>=4.22.0 in c:\\users\\peddo\\anaconda3\\lib\\site-packages (from matplotlib) (4.25.0)\n",
      "Requirement already satisfied: kiwisolver>=1.0.1 in c:\\users\\peddo\\anaconda3\\lib\\site-packages (from matplotlib) (1.4.4)\n",
      "Requirement already satisfied: numpy>=1.20 in c:\\users\\peddo\\anaconda3\\lib\\site-packages (from matplotlib) (1.24.3)\n",
      "Requirement already satisfied: packaging>=20.0 in c:\\users\\peddo\\anaconda3\\lib\\site-packages (from matplotlib) (23.0)\n",
      "Requirement already satisfied: pillow>=6.2.0 in c:\\users\\peddo\\anaconda3\\lib\\site-packages (from matplotlib) (9.4.0)\n",
      "Requirement already satisfied: pyparsing>=2.3.1 in c:\\users\\peddo\\anaconda3\\lib\\site-packages (from matplotlib) (3.0.9)\n",
      "Requirement already satisfied: python-dateutil>=2.7 in c:\\users\\peddo\\anaconda3\\lib\\site-packages (from matplotlib) (2.8.2)\n",
      "Requirement already satisfied: six>=1.5 in c:\\users\\peddo\\anaconda3\\lib\\site-packages (from python-dateutil>=2.7->matplotlib) (1.16.0)\n"
     ]
    }
   ],
   "source": [
    "pip install matplotlib"
   ]
  },
  {
   "cell_type": "markdown",
   "id": "61f95e1f",
   "metadata": {},
   "source": [
    "#### Installing Keras Library.\n",
    "Google created Keras, a high-level deep learning API for building neural networks. It is used to simplify the implementation of neural networks and is written in Python. Multiple backend neural network computation is also supported.                         Because Keras offers a high-level, abstract Python frontend with the flexibility to use numerous back-ends for computation, it is comparatively simple to understand and use. As a result, Keras is far more user-friendly for beginners yet slower than other deep learning frameworks. \n",
    "You can swap between various back ends with Keras. The frameworks that Keras supports are:\n",
    "\n",
    "\n",
    "<ul> \n",
    "    <li>Tensorflow</li>\n",
    "<li>Theano</li>\n",
    "<li>PlaidML</li>\n",
    "<li>MXNet</li>\n",
    "<li>CNTK (Microsoft Cognitive Toolkit )</li>\n",
    "    </ul>"
   ]
  },
  {
   "cell_type": "code",
   "execution_count": 2,
   "id": "46f4f6d9",
   "metadata": {},
   "outputs": [
    {
     "name": "stdout",
     "output_type": "stream",
     "text": [
      "Requirement already satisfied: keras in c:\\users\\peddo\\anaconda3\\lib\\site-packages (2.14.0)\n",
      "Note: you may need to restart the kernel to use updated packages.\n"
     ]
    }
   ],
   "source": [
    "pip install keras"
   ]
  },
  {
   "cell_type": "markdown",
   "id": "b703ce1d",
   "metadata": {},
   "source": [
    "#### Importing Tenserflow, Matplot and Numpy"
   ]
  },
  {
   "cell_type": "code",
   "execution_count": 25,
   "id": "9e786d6e",
   "metadata": {},
   "outputs": [],
   "source": [
    "import tensorflow as tf\n",
    "from tensorflow import keras\n",
    "from tensorflow.keras import datasets, layers, models\n",
    "import matplotlib.pyplot as plt\n",
    "import matplotlib\n",
    "%matplotlib inline\n",
    "import numpy as np"
   ]
  },
  {
   "cell_type": "markdown",
   "id": "bdee49eb",
   "metadata": {},
   "source": [
    "#### Version Check for Tensorflow, Matplot and Numpy"
   ]
  },
  {
   "cell_type": "code",
   "execution_count": 30,
   "id": "96b03d57",
   "metadata": {},
   "outputs": [
    {
     "name": "stdout",
     "output_type": "stream",
     "text": [
      "2.14.0\n",
      "3.7.1\n",
      "1.24.3\n"
     ]
    }
   ],
   "source": [
    "print(tf.__version__)\n",
    "print(matplotlib.__version__)\n",
    "print(np.__version__)"
   ]
  },
  {
   "cell_type": "code",
   "execution_count": 2,
   "id": "ef96d224",
   "metadata": {},
   "outputs": [
    {
     "name": "stdout",
     "output_type": "stream",
     "text": [
      "Downloading data from https://storage.googleapis.com/tensorflow/tf-keras-datasets/mnist.npz\n",
      "11490434/11490434 [==============================] - 1s 0us/step\n"
     ]
    }
   ],
   "source": [
    "(X_train, y_train) , (X_test, y_test) = keras.datasets.mnist.load_data()"
   ]
  },
  {
   "cell_type": "code",
   "execution_count": 3,
   "id": "374b288a",
   "metadata": {},
   "outputs": [
    {
     "data": {
      "text/plain": [
       "(60000, 28, 28)"
      ]
     },
     "execution_count": 3,
     "metadata": {},
     "output_type": "execute_result"
    }
   ],
   "source": [
    "X_train.shape"
   ]
  },
  {
   "cell_type": "code",
   "execution_count": 4,
   "id": "2d9f0516",
   "metadata": {},
   "outputs": [
    {
     "data": {
      "text/plain": [
       "(10000, 28, 28)"
      ]
     },
     "execution_count": 4,
     "metadata": {},
     "output_type": "execute_result"
    }
   ],
   "source": [
    "X_test.shape"
   ]
  },
  {
   "cell_type": "code",
   "execution_count": 5,
   "id": "c9679d18",
   "metadata": {},
   "outputs": [
    {
     "data": {
      "text/plain": [
       "(28, 28)"
      ]
     },
     "execution_count": 5,
     "metadata": {},
     "output_type": "execute_result"
    }
   ],
   "source": [
    "X_train[10].shape"
   ]
  },
  {
   "cell_type": "markdown",
   "id": "5d037163",
   "metadata": {},
   "source": [
    "#### Using Matplot to show the image"
   ]
  },
  {
   "cell_type": "code",
   "execution_count": 7,
   "id": "8d2fc7fd",
   "metadata": {},
   "outputs": [
    {
     "data": {
      "text/plain": [
       "<matplotlib.image.AxesImage at 0x268ece8fc90>"
      ]
     },
     "execution_count": 7,
     "metadata": {},
     "output_type": "execute_result"
    },
    {
     "data": {
      "image/png": "[encoded data removed]",
      "text/plain": [
       "<Figure size 480x480 with 1 Axes>"
      ]
     },
     "metadata": {},
     "output_type": "display_data"
    }
   ],
   "source": [
    "plt.matshow(X_train[10])"
   ]
  },
  {
   "cell_type": "code",
   "execution_count": 8,
   "id": "8d06372f",
   "metadata": {},
   "outputs": [
    {
     "data": {
      "text/plain": [
       "3"
      ]
     },
     "execution_count": 8,
     "metadata": {},
     "output_type": "execute_result"
    }
   ],
   "source": [
    "y_train[10]"
   ]
  },
  {
   "cell_type": "markdown",
   "id": "a15272f6",
   "metadata": {},
   "source": [
    "#### Normalising the training data"
   ]
  },
  {
   "cell_type": "code",
   "execution_count": 9,
   "id": "6bc44dfd",
   "metadata": {},
   "outputs": [],
   "source": [
    "X_train = X_train / 255\n",
    "X_test = X_test / 255"
   ]
  },
  {
   "cell_type": "markdown",
   "id": "f339cbf3",
   "metadata": {},
   "source": [
    "#### Activation Function:\n",
    "<ul>\n",
    "    <li>Relu-They determine the output of a model, its accuracy, and computational efficiency. In some cases, activation functions have a major effect on the model's ability to converge and the convergence speed.\n",
    "    </li>\n",
    "    <li>\n",
    "    Sigmoid- The sigmoid function's ability to transform any real number to one between 0 and 1 is advantageous in data science and many other fields such as: In deep learning as a non-linear activation function within neurons in artificial neural networks to allows the network to learn non-linear relationships between the data.\n",
    "    </li>\n",
    "</ul>"
   ]
  },
  {
   "cell_type": "code",
   "execution_count": 10,
   "id": "aa5504d5",
   "metadata": {},
   "outputs": [
    {
     "name": "stdout",
     "output_type": "stream",
     "text": [
      "Epoch 1/10\n",
      "1875/1875 [==============================] - 17s 5ms/step - loss: 0.2694 - accuracy: 0.9234\n",
      "Epoch 2/10\n",
      "1875/1875 [==============================] - 9s 5ms/step - loss: 0.1226 - accuracy: 0.9643\n",
      "Epoch 3/10\n",
      "1875/1875 [==============================] - 9s 5ms/step - loss: 0.0838 - accuracy: 0.9750\n",
      "Epoch 4/10\n",
      "1875/1875 [==============================] - 9s 5ms/step - loss: 0.0642 - accuracy: 0.9801\n",
      "Epoch 5/10\n",
      "1875/1875 [==============================] - 9s 5ms/step - loss: 0.0503 - accuracy: 0.9848\n",
      "Epoch 6/10\n",
      "1875/1875 [==============================] - 9s 5ms/step - loss: 0.0400 - accuracy: 0.9879\n",
      "Epoch 7/10\n",
      "1875/1875 [==============================] - 9s 5ms/step - loss: 0.0328 - accuracy: 0.9904\n",
      "Epoch 8/10\n",
      "1875/1875 [==============================] - 9s 5ms/step - loss: 0.0275 - accuracy: 0.9912\n",
      "Epoch 9/10\n",
      "1875/1875 [==============================] - 8s 5ms/step - loss: 0.0226 - accuracy: 0.9930\n",
      "Epoch 10/10\n",
      "1875/1875 [==============================] - 9s 5ms/step - loss: 0.0182 - accuracy: 0.9947\n"
     ]
    },
    {
     "data": {
      "text/plain": [
       "<keras.src.callbacks.History at 0x268e75d3a90>"
      ]
     },
     "execution_count": 10,
     "metadata": {},
     "output_type": "execute_result"
    }
   ],
   "source": [
    "model = keras.Sequential([\n",
    "    keras.layers.Flatten(input_shape=(28, 28)),\n",
    "    keras.layers.Dense(100, activation='relu'),\n",
    "    keras.layers.Dense(10, activation='sigmoid')\n",
    "])\n",
    "\n",
    "model.compile(optimizer='adam',\n",
    "              loss='sparse_categorical_crossentropy',\n",
    "              metrics=['accuracy'])\n",
    "\n",
    "model.fit(X_train, y_train, epochs=10)"
   ]
  },
  {
   "cell_type": "code",
   "execution_count": 11,
   "id": "2fd00249",
   "metadata": {},
   "outputs": [
    {
     "name": "stdout",
     "output_type": "stream",
     "text": [
      "313/313 [==============================] - 6s 4ms/step - loss: 0.0933 - accuracy: 0.9751\n"
     ]
    },
    {
     "data": {
      "text/plain": [
       "[0.09329238533973694, 0.9750999808311462]"
      ]
     },
     "execution_count": 11,
     "metadata": {},
     "output_type": "execute_result"
    }
   ],
   "source": [
    "model.evaluate(X_test,y_test)"
   ]
  },
  {
   "cell_type": "code",
   "execution_count": 12,
   "id": "ad4f4c5a",
   "metadata": {},
   "outputs": [
    {
     "data": {
      "text/plain": [
       "(60000, 28, 28, 1)"
      ]
     },
     "execution_count": 12,
     "metadata": {},
     "output_type": "execute_result"
    }
   ],
   "source": [
    "X_train = X_train.reshape(-1,28,28,1)\n",
    "X_train.shape"
   ]
  },
  {
   "cell_type": "code",
   "execution_count": 13,
   "id": "585d4ac1",
   "metadata": {},
   "outputs": [
    {
     "data": {
      "text/plain": [
       "(10000, 28, 28, 1)"
      ]
     },
     "execution_count": 13,
     "metadata": {},
     "output_type": "execute_result"
    }
   ],
   "source": [
    "X_test = X_test.reshape(-1,28,28,1)\n",
    "X_test.shape"
   ]
  },
  {
   "cell_type": "markdown",
   "id": "6543bfc2",
   "metadata": {},
   "source": [
    "#### CNN Classification\n",
    "Convolutional Neural Networks (CNN) have revolutionised computer vision tasks by providing accurate and automated object recognition inside images, hence revolutionising image classification. Because CNN-based image classification algorithms can automatically learn and extract complex features from raw picture data, they have become extremely popular. The concepts, methods, and uses of CNN-based image categorization will all be covered in this essay. We will explore CNN image classification evaluation criteria, training procedure, and architecture. Understanding how CNNs function for picture categorization opens up a world of possibilities for visual data analysis, object recognition, and scene comprehension."
   ]
  },
  {
   "cell_type": "code",
   "execution_count": 15,
   "id": "941f1a59",
   "metadata": {},
   "outputs": [],
   "source": [
    "model = keras.Sequential([\n",
    "    \n",
    "    layers.Conv2D(30, (3,3), activation='relu', input_shape=(28, 28, 1)),\n",
    "    layers.MaxPooling2D((2,2)),\n",
    " \n",
    "    layers.Flatten(),\n",
    "    layers.Dense(100, activation='relu'),\n",
    "    keras.layers.Dense(10, activation='sigmoid')\n",
    "])"
   ]
  },
  {
   "cell_type": "markdown",
   "id": "66f9a90f",
   "metadata": {},
   "source": [
    "#### Epochs For evaluating Accuracy\n",
    "A data structure called epochs objects is used to represent and analyse equal-duration segments of the EEG/MEG signal. Epochs can be used to store sequential or overlapping frames of a continuous signal, which is useful for storing data that is time-locked to repeated experimental events (such as stimulus onsets or subject button presses) (e.g., for analysis of resting-state activity; see Making equally-spaced Events arrays). Data are stored inside Epochs objects in a variety of shapes."
   ]
  },
  {
   "cell_type": "code",
   "execution_count": 16,
   "id": "4d4cb75c",
   "metadata": {},
   "outputs": [
    {
     "name": "stdout",
     "output_type": "stream",
     "text": [
      "Epoch 1/20\n",
      "1875/1875 [==============================] - 43s 18ms/step - loss: 0.1552 - accuracy: 0.9541\n",
      "Epoch 2/20\n",
      "1875/1875 [==============================] - 29s 15ms/step - loss: 0.0538 - accuracy: 0.9842\n",
      "Epoch 3/20\n",
      "1875/1875 [==============================] - 27s 14ms/step - loss: 0.0353 - accuracy: 0.9893\n",
      "Epoch 4/20\n",
      "1875/1875 [==============================] - 26s 14ms/step - loss: 0.0236 - accuracy: 0.9925\n",
      "Epoch 5/20\n",
      "1875/1875 [==============================] - 32s 17ms/step - loss: 0.0170 - accuracy: 0.9945\n",
      "Epoch 6/20\n",
      "1875/1875 [==============================] - 36s 19ms/step - loss: 0.0126 - accuracy: 0.9961\n",
      "Epoch 7/20\n",
      "1875/1875 [==============================] - 34s 18ms/step - loss: 0.0091 - accuracy: 0.9970\n",
      "Epoch 8/20\n",
      "1875/1875 [==============================] - 33s 18ms/step - loss: 0.0070 - accuracy: 0.9976\n",
      "Epoch 9/20\n",
      "1875/1875 [==============================] - 36s 19ms/step - loss: 0.0051 - accuracy: 0.9984\n",
      "Epoch 10/20\n",
      "1875/1875 [==============================] - 36s 19ms/step - loss: 0.0043 - accuracy: 0.9987\n",
      "Epoch 11/20\n",
      "1875/1875 [==============================] - 34s 18ms/step - loss: 0.0054 - accuracy: 0.9983\n",
      "Epoch 12/20\n",
      "1875/1875 [==============================] - 32s 17ms/step - loss: 0.0038 - accuracy: 0.9987\n",
      "Epoch 13/20\n",
      "1875/1875 [==============================] - 34s 18ms/step - loss: 0.0021 - accuracy: 0.9994\n",
      "Epoch 14/20\n",
      "1875/1875 [==============================] - 34s 18ms/step - loss: 0.0039 - accuracy: 0.9987\n",
      "Epoch 15/20\n",
      "1875/1875 [==============================] - 34s 18ms/step - loss: 0.0021 - accuracy: 0.9993\n",
      "Epoch 16/20\n",
      "1875/1875 [==============================] - 34s 18ms/step - loss: 0.0031 - accuracy: 0.9991\n",
      "Epoch 17/20\n",
      "1875/1875 [==============================] - 34s 18ms/step - loss: 0.0024 - accuracy: 0.9992\n",
      "Epoch 18/20\n",
      "1875/1875 [==============================] - 35s 19ms/step - loss: 0.0022 - accuracy: 0.9992\n",
      "Epoch 19/20\n",
      "1875/1875 [==============================] - 35s 19ms/step - loss: 0.0020 - accuracy: 0.9993\n",
      "Epoch 20/20\n",
      "1875/1875 [==============================] - 34s 18ms/step - loss: 0.0016 - accuracy: 0.9995\n"
     ]
    },
    {
     "data": {
      "text/plain": [
       "<keras.src.callbacks.History at 0x268e7ef4c50>"
      ]
     },
     "execution_count": 16,
     "metadata": {},
     "output_type": "execute_result"
    }
   ],
   "source": [
    "model.compile(optimizer='adam',\n",
    "              loss='sparse_categorical_crossentropy',\n",
    "              metrics=['accuracy'])\n",
    "\n",
    "model.fit(X_train, y_train, epochs=20)"
   ]
  },
  {
   "cell_type": "markdown",
   "id": "07b066d2",
   "metadata": {},
   "source": [
    "#### Training the model with 10 numerics"
   ]
  },
  {
   "cell_type": "code",
   "execution_count": 17,
   "id": "3e330f3c",
   "metadata": {},
   "outputs": [
    {
     "data": {
      "text/plain": [
       "array([5, 0, 4, 1, 9, 2, 1, 3, 1, 4], dtype=uint8)"
      ]
     },
     "execution_count": 17,
     "metadata": {},
     "output_type": "execute_result"
    }
   ],
   "source": [
    "y_train[:10]"
   ]
  },
  {
   "cell_type": "markdown",
   "id": "69f5f9d7",
   "metadata": {},
   "source": [
    "#### Evaluating the test model"
   ]
  },
  {
   "cell_type": "code",
   "execution_count": 18,
   "id": "536fcaca",
   "metadata": {},
   "outputs": [
    {
     "name": "stdout",
     "output_type": "stream",
     "text": [
      "313/313 [==============================] - 8s 8ms/step - loss: 0.0679 - accuracy: 0.9864\n"
     ]
    },
    {
     "data": {
      "text/plain": [
       "[0.06788302958011627, 0.9864000082015991]"
      ]
     },
     "execution_count": 18,
     "metadata": {},
     "output_type": "execute_result"
    }
   ],
   "source": [
    "model.evaluate(X_test,y_test)"
   ]
  },
  {
   "cell_type": "markdown",
   "id": "451ba99f",
   "metadata": {},
   "source": [
    "### Reflection"
   ]
  },
  {
   "cell_type": "markdown",
   "id": "4b6f3ecc",
   "metadata": {},
   "source": [
    "a detailed explanation of a Convolutional Neural Network (CNN) based system designed to recognise four different types of visual blur. These blurs include Gaussian blurs, defocus blurs, and motion blurs. The model uses supervised learning and includes a step that transforms input pictures into a higher-dimensional feature space. This approach aims to appropriately categorise the images. To reduce overfitting and speed up convergence, the model replaces the removal method with group normalisation layers. The methodical approach of the concept is particularly suitable for tasks that are relatively simple or for new users. A rational and well-organized network layer architecture is ensured by this method. The middle layers' activation function is employed when the output layer uses the function and#039;softmaxand#039;\n",
    "\n",
    "##### Advantages\n",
    "\n",
    "The notebook encourages comprehension and reproducibility with its logical flow from data preparation to model evaluation.\n",
    "\n",
    "Using a multi-layered sequential model suggests that one is attempting to identify complex patterns in the data, which can lead to increased accuracy.\n",
    "\n",
    "\n",
    "\n",
    "##### Drawbacks\n",
    "\n",
    "There is no introductory text or commentary outlining the purpose of the notebook, the contents of the dataset, or the specific goals of the model. This absence of context may make it difficult for others to understand the work's broader purpose or applicability.\n",
    "\n",
    "Accurate classification appears to be the evaluator's primary focus. Additional metrics, like as recall, precision, or a confusion matrix, would provide a more complete view of the model's functionality.\n",
    "\n",
    "\n",
    "\n",
    "#### Reference:\n",
    "<ul>\n",
    "    <li>\n",
    "        1.Linda G. Shapiro; George C. Stockman (2001). Computer Vision. Prentice Hall. ISBN 978-0-13-030796-5.\n",
    "        </li>\n",
    "<li>\n",
    "    2.Bruijning, Marjolein; Visser, Marco D.; Hallmann, Caspar A.; Jongejans, Eelke; Golding, Nick (2018). \"trackdem: Automated particle tracking to obtain population counts and size distributions from videos in r\". Methods in Ecology and Evolution. 9 (4): 965–973. doi:10.1111/2041-210X.12975. ISSN 2041-210X.\n",
    "    </li>\n",
    "    </ul>"
   ]
  },
  {
   "cell_type": "code",
   "execution_count": null,
   "id": "1c273328",
   "metadata": {},
   "outputs": [],
   "source": []
  }
 ],
 "metadata": {
  "kernelspec": {
   "display_name": "Python 3 (ipykernel)",
   "language": "python",
   "name": "python3"
  },
  "language_info": {
   "codemirror_mode": {
    "name": "ipython",
    "version": 3
   },
   "file_extension": ".py",
   "mimetype": "text/x-python",
   "name": "python",
   "nbconvert_exporter": "python",
   "pygments_lexer": "ipython3",
   "version": "3.11.4"
  }
 },
 "nbformat": 4,
 "nbformat_minor": 5
}
